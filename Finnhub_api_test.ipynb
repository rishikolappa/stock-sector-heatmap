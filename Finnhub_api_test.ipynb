{
 "cells": [
  {
   "cell_type": "code",
   "execution_count": 4,
   "id": "991bae45-e4ef-43f3-8e86-5c408ab8993f",
   "metadata": {},
   "outputs": [],
   "source": [
    "import finnhub\n",
    "import os\n",
    "from dotenv import load_dotenv"
   ]
  },
  {
   "cell_type": "code",
   "execution_count": 5,
   "id": "355ca5bc-0d2d-4177-ab45-5d912c846f4d",
   "metadata": {},
   "outputs": [],
   "source": [
    "load_dotenv()\n",
    "finnhub_key = os.getenv(\"FINNHUB_KEY\")\n",
    "client = finnhub.Client(api_key=finnhub_key)"
   ]
  },
  {
   "cell_type": "code",
   "execution_count": 6,
   "id": "9aabf341-c6a3-4eeb-b460-c9f09683a3d5",
   "metadata": {},
   "outputs": [
    {
     "name": "stdout",
     "output_type": "stream",
     "text": [
      "{'country': 'US', 'currency': 'USD', 'estimateCurrency': 'USD', 'exchange': 'NASDAQ NMS - GLOBAL MARKET', 'finnhubIndustry': 'Technology', 'ipo': '1980-12-12', 'logo': 'https://static2.finnhub.io/file/publicdatany/finnhubimage/stock_logo/AAPL.png', 'marketCapitalization': 3558428.6481179716, 'name': 'Apple Inc', 'phone': '14089961010', 'shareOutstanding': 14840.39, 'ticker': 'AAPL', 'weburl': 'https://www.apple.com/'}\n"
     ]
    }
   ],
   "source": [
    "print(client.company_profile2(symbol=\"AAPL\"))"
   ]
  },
  {
   "cell_type": "code",
   "execution_count": null,
   "id": "79aa4666-d62c-4192-a5a3-86c4b1fabc94",
   "metadata": {},
   "outputs": [],
   "source": []
  }
 ],
 "metadata": {
  "kernelspec": {
   "display_name": "Python 3 (ipykernel)",
   "language": "python",
   "name": "python3"
  },
  "language_info": {
   "codemirror_mode": {
    "name": "ipython",
    "version": 3
   },
   "file_extension": ".py",
   "mimetype": "text/x-python",
   "name": "python",
   "nbconvert_exporter": "python",
   "pygments_lexer": "ipython3",
   "version": "3.13.7"
  }
 },
 "nbformat": 4,
 "nbformat_minor": 5
}
