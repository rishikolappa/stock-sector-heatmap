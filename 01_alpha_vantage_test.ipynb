{
 "cells": [
  {
   "cell_type": "code",
   "execution_count": 2,
   "id": "b02c79dd-4835-4ccf-b6ab-a91be0bae05d",
   "metadata": {},
   "outputs": [
    {
     "data": {
      "text/plain": [
       "'/Users/rishikolappa/Desktop/Stock Sector'"
      ]
     },
     "execution_count": 2,
     "metadata": {},
     "output_type": "execute_result"
    }
   ],
   "source": [
    "import os\n",
    "os.getcwd()"
   ]
  },
  {
   "cell_type": "code",
   "execution_count": 3,
   "id": "c1b70c44-c7fd-486f-9009-0444f29cf491",
   "metadata": {},
   "outputs": [
    {
     "name": "stdout",
     "output_type": "stream",
     "text": [
      "Alpha Vantage Key Loaded: FHLKE ...\n"
     ]
    }
   ],
   "source": [
    "from dotenv import load_dotenv\n",
    "import os\n",
    "\n",
    "# Load .env\n",
    "load_dotenv()\n",
    "\n",
    "# Fetch Alpha Vantage key\n",
    "alpha_key = os.getenv(\"ALPHA_VANTAGE_KEY\")\n",
    "\n",
    "# Confirm it loaded\n",
    "print(\"Alpha Vantage Key Loaded:\", alpha_key[:5], \"...\")  # first 5 characters\n"
   ]
  },
  {
   "cell_type": "code",
   "execution_count": 4,
   "id": "9bc2753a-1004-4d46-ad55-6afd50fb9801",
   "metadata": {},
   "outputs": [
    {
     "name": "stdout",
     "output_type": "stream",
     "text": [
      "dict_keys(['Meta Data', 'Time Series (Daily)'])\n"
     ]
    }
   ],
   "source": [
    "import requests\n",
    "\n",
    "symbol = \"AAPL\"\n",
    "url = f\"https://www.alphavantage.co/query?function=TIME_SERIES_DAILY&symbol={symbol}&apikey={alpha_key}\"\n",
    "\n",
    "response = requests.get(url).json()\n",
    "print(response.keys())  # Should show 'Meta Data' and 'Time Series (Daily)'\n"
   ]
  },
  {
   "cell_type": "code",
   "execution_count": 5,
   "id": "7149ba92-641c-47d0-87d7-71e9a088f40f",
   "metadata": {},
   "outputs": [
    {
     "name": "stdout",
     "output_type": "stream",
     "text": [
      "2025-09-05 {'1. open': '240.0000', '2. high': '241.3200', '3. low': '238.4901', '4. close': '239.6900', '5. volume': '54836632'}\n",
      "2025-09-04 {'1. open': '238.4500', '2. high': '239.8999', '3. low': '236.7400', '4. close': '239.7800', '5. volume': '47549429'}\n",
      "2025-09-03 {'1. open': '237.2100', '2. high': '238.8500', '3. low': '234.3600', '4. close': '238.4700', '5. volume': '66061716'}\n",
      "2025-09-02 {'1. open': '229.2500', '2. high': '230.8500', '3. low': '226.9700', '4. close': '229.7200', '5. volume': '44075638'}\n",
      "2025-08-29 {'1. open': '232.5100', '2. high': '233.3800', '3. low': '231.3700', '4. close': '232.1400', '5. volume': '39418437'}\n"
     ]
    }
   ],
   "source": [
    "daily_data = response.get(\"Time Series (Daily)\", {})\n",
    "for date, metrics in list(daily_data.items())[:5]:\n",
    "    print(date, metrics)\n"
   ]
  },
  {
   "cell_type": "code",
   "execution_count": null,
   "id": "6ac18db2-f63f-453a-b8d5-ce865a202528",
   "metadata": {},
   "outputs": [],
   "source": []
  }
 ],
 "metadata": {
  "kernelspec": {
   "display_name": "Python 3 (ipykernel)",
   "language": "python",
   "name": "python3"
  },
  "language_info": {
   "codemirror_mode": {
    "name": "ipython",
    "version": 3
   },
   "file_extension": ".py",
   "mimetype": "text/x-python",
   "name": "python",
   "nbconvert_exporter": "python",
   "pygments_lexer": "ipython3",
   "version": "3.13.7"
  }
 },
 "nbformat": 4,
 "nbformat_minor": 5
}
